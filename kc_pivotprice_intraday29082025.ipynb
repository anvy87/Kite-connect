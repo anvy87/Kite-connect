{
  "cells": [
    {
      "cell_type": "markdown",
      "metadata": {
        "id": "view-in-github",
        "colab_type": "text"
      },
      "source": [
        "<a href=\"https://colab.research.google.com/github/anvy87/Kite-connect/blob/main/kc_pivotprice_intraday29082025.ipynb\" target=\"_parent\"><img src=\"https://colab.research.google.com/assets/colab-badge.svg\" alt=\"Open In Colab\"/></a>"
      ]
    },
    {
      "cell_type": "code",
      "execution_count": 1,
      "metadata": {
        "colab": {
          "base_uri": "https://localhost:8080/"
        },
        "collapsed": true,
        "id": "Poh-iK8oSQCS",
        "outputId": "9b96d2f2-60af-4f41-f164-9bdbc3803bcb"
      },
      "outputs": [
        {
          "output_type": "stream",
          "name": "stdout",
          "text": [
            "Collecting kiteconnect\n",
            "  Downloading kiteconnect-5.0.1-py3-none-any.whl.metadata (8.0 kB)\n",
            "Collecting service-identity>=18.1.0 (from kiteconnect)\n",
            "  Downloading service_identity-24.2.0-py3-none-any.whl.metadata (5.1 kB)\n",
            "Requirement already satisfied: requests>=2.18.4 in /usr/local/lib/python3.12/dist-packages (from kiteconnect) (2.32.4)\n",
            "Requirement already satisfied: six>=1.11.0 in /usr/local/lib/python3.12/dist-packages (from kiteconnect) (1.17.0)\n",
            "Requirement already satisfied: pyOpenSSL>=17.5.0 in /usr/local/lib/python3.12/dist-packages (from kiteconnect) (24.2.1)\n",
            "Requirement already satisfied: python-dateutil>=2.6.1 in /usr/local/lib/python3.12/dist-packages (from kiteconnect) (2.9.0.post0)\n",
            "Collecting autobahn==19.11.2 (from autobahn[twisted]==19.11.2->kiteconnect)\n",
            "  Downloading autobahn-19.11.2-py2.py3-none-any.whl.metadata (16 kB)\n",
            "Collecting txaio>=18.8.1 (from autobahn==19.11.2->autobahn[twisted]==19.11.2->kiteconnect)\n",
            "  Downloading txaio-25.6.1-py2.py3-none-any.whl.metadata (7.1 kB)\n",
            "Requirement already satisfied: cryptography>=2.7 in /usr/local/lib/python3.12/dist-packages (from autobahn==19.11.2->autobahn[twisted]==19.11.2->kiteconnect) (43.0.3)\n",
            "Collecting zope.interface>=3.6.0 (from autobahn[twisted]==19.11.2->kiteconnect)\n",
            "  Downloading zope.interface-7.2-cp312-cp312-manylinux_2_5_x86_64.manylinux1_x86_64.manylinux_2_17_x86_64.manylinux2014_x86_64.whl.metadata (44 kB)\n",
            "\u001b[2K     \u001b[90m━━━━━━━━━━━━━━━━━━━━━━━━━━━━━━━━━━━━━━━\u001b[0m \u001b[32m44.4/44.4 kB\u001b[0m \u001b[31m683.9 kB/s\u001b[0m eta \u001b[36m0:00:00\u001b[0m\n",
            "\u001b[?25hCollecting Twisted>=12.1.0 (from autobahn[twisted]==19.11.2->kiteconnect)\n",
            "  Downloading twisted-25.5.0-py3-none-any.whl.metadata (22 kB)\n",
            "Requirement already satisfied: charset_normalizer<4,>=2 in /usr/local/lib/python3.12/dist-packages (from requests>=2.18.4->kiteconnect) (3.4.3)\n",
            "Requirement already satisfied: idna<4,>=2.5 in /usr/local/lib/python3.12/dist-packages (from requests>=2.18.4->kiteconnect) (3.10)\n",
            "Requirement already satisfied: urllib3<3,>=1.21.1 in /usr/local/lib/python3.12/dist-packages (from requests>=2.18.4->kiteconnect) (2.5.0)\n",
            "Requirement already satisfied: certifi>=2017.4.17 in /usr/local/lib/python3.12/dist-packages (from requests>=2.18.4->kiteconnect) (2025.8.3)\n",
            "Requirement already satisfied: attrs>=19.1.0 in /usr/local/lib/python3.12/dist-packages (from service-identity>=18.1.0->kiteconnect) (25.3.0)\n",
            "Requirement already satisfied: pyasn1 in /usr/local/lib/python3.12/dist-packages (from service-identity>=18.1.0->kiteconnect) (0.6.1)\n",
            "Requirement already satisfied: pyasn1-modules in /usr/local/lib/python3.12/dist-packages (from service-identity>=18.1.0->kiteconnect) (0.4.2)\n",
            "Requirement already satisfied: cffi>=1.12 in /usr/local/lib/python3.12/dist-packages (from cryptography>=2.7->autobahn==19.11.2->autobahn[twisted]==19.11.2->kiteconnect) (1.17.1)\n",
            "Collecting automat>=24.8.0 (from Twisted>=12.1.0->autobahn[twisted]==19.11.2->kiteconnect)\n",
            "  Downloading automat-25.4.16-py3-none-any.whl.metadata (8.4 kB)\n",
            "Collecting constantly>=15.1 (from Twisted>=12.1.0->autobahn[twisted]==19.11.2->kiteconnect)\n",
            "  Downloading constantly-23.10.4-py3-none-any.whl.metadata (1.8 kB)\n",
            "Collecting hyperlink>=17.1.1 (from Twisted>=12.1.0->autobahn[twisted]==19.11.2->kiteconnect)\n",
            "  Downloading hyperlink-21.0.0-py2.py3-none-any.whl.metadata (1.5 kB)\n",
            "Collecting incremental>=24.7.0 (from Twisted>=12.1.0->autobahn[twisted]==19.11.2->kiteconnect)\n",
            "  Downloading incremental-24.7.2-py3-none-any.whl.metadata (8.1 kB)\n",
            "Requirement already satisfied: typing-extensions>=4.2.0 in /usr/local/lib/python3.12/dist-packages (from Twisted>=12.1.0->autobahn[twisted]==19.11.2->kiteconnect) (4.15.0)\n",
            "Requirement already satisfied: setuptools in /usr/local/lib/python3.12/dist-packages (from zope.interface>=3.6.0->autobahn[twisted]==19.11.2->kiteconnect) (75.2.0)\n",
            "Requirement already satisfied: pycparser in /usr/local/lib/python3.12/dist-packages (from cffi>=1.12->cryptography>=2.7->autobahn==19.11.2->autobahn[twisted]==19.11.2->kiteconnect) (2.22)\n",
            "Downloading kiteconnect-5.0.1-py3-none-any.whl (24 kB)\n",
            "Downloading autobahn-19.11.2-py2.py3-none-any.whl (771 kB)\n",
            "\u001b[2K   \u001b[90m━━━━━━━━━━━━━━━━━━━━━━━━━━━━━━━━━━━━━━━━\u001b[0m \u001b[32m771.5/771.5 kB\u001b[0m \u001b[31m26.7 MB/s\u001b[0m eta \u001b[36m0:00:00\u001b[0m\n",
            "\u001b[?25hDownloading service_identity-24.2.0-py3-none-any.whl (11 kB)\n",
            "Downloading twisted-25.5.0-py3-none-any.whl (3.2 MB)\n",
            "\u001b[2K   \u001b[90m━━━━━━━━━━━━━━━━━━━━━━━━━━━━━━━━━━━━━━━━\u001b[0m \u001b[32m3.2/3.2 MB\u001b[0m \u001b[31m55.8 MB/s\u001b[0m eta \u001b[36m0:00:00\u001b[0m\n",
            "\u001b[?25hDownloading txaio-25.6.1-py2.py3-none-any.whl (31 kB)\n",
            "Downloading zope.interface-7.2-cp312-cp312-manylinux_2_5_x86_64.manylinux1_x86_64.manylinux_2_17_x86_64.manylinux2014_x86_64.whl (264 kB)\n",
            "\u001b[2K   \u001b[90m━━━━━━━━━━━━━━━━━━━━━━━━━━━━━━━━━━━━━━━━\u001b[0m \u001b[32m264.7/264.7 kB\u001b[0m \u001b[31m22.2 MB/s\u001b[0m eta \u001b[36m0:00:00\u001b[0m\n",
            "\u001b[?25hDownloading automat-25.4.16-py3-none-any.whl (42 kB)\n",
            "\u001b[2K   \u001b[90m━━━━━━━━━━━━━━━━━━━━━━━━━━━━━━━━━━━━━━━━\u001b[0m \u001b[32m42.8/42.8 kB\u001b[0m \u001b[31m3.4 MB/s\u001b[0m eta \u001b[36m0:00:00\u001b[0m\n",
            "\u001b[?25hDownloading constantly-23.10.4-py3-none-any.whl (13 kB)\n",
            "Downloading hyperlink-21.0.0-py2.py3-none-any.whl (74 kB)\n",
            "\u001b[2K   \u001b[90m━━━━━━━━━━━━━━━━━━━━━━━━━━━━━━━━━━━━━━━━\u001b[0m \u001b[32m74.6/74.6 kB\u001b[0m \u001b[31m5.1 MB/s\u001b[0m eta \u001b[36m0:00:00\u001b[0m\n",
            "\u001b[?25hDownloading incremental-24.7.2-py3-none-any.whl (20 kB)\n",
            "Installing collected packages: zope.interface, txaio, incremental, hyperlink, constantly, automat, Twisted, service-identity, autobahn, kiteconnect\n",
            "Successfully installed Twisted-25.5.0 autobahn-19.11.2 automat-25.4.16 constantly-23.10.4 hyperlink-21.0.0 incremental-24.7.2 kiteconnect-5.0.1 service-identity-24.2.0 txaio-25.6.1 zope.interface-7.2\n"
          ]
        }
      ],
      "source": [
        "pip install kiteconnect"
      ]
    },
    {
      "cell_type": "code",
      "execution_count": 2,
      "metadata": {
        "id": "SKV9cb05SR7a"
      },
      "outputs": [],
      "source": [
        "from kiteconnect import KiteConnect\n",
        "import pandas as pd\n",
        "import numpy as np\n",
        "import logging\n",
        "import os\n",
        "import time\n",
        "import datetime as dt\n",
        "api_key = \"1ll4p8ziqlk8hh7g\"\n",
        "api_secret = \"x59r5u1vd25annfpgts22wv8ykfueirl\"\n",
        "kite = KiteConnect(api_key=api_key)"
      ]
    },
    {
      "cell_type": "code",
      "execution_count": 3,
      "metadata": {
        "colab": {
          "base_uri": "https://localhost:8080/"
        },
        "id": "K2xUHKxoSl4a",
        "outputId": "a0bf6278-776f-4771-eaf5-8efcd6a5bc24"
      },
      "outputs": [
        {
          "output_type": "stream",
          "name": "stdout",
          "text": [
            "https://kite.zerodha.com/connect/login?api_key=1ll4p8ziqlk8hh7g&v=3\n"
          ]
        }
      ],
      "source": [
        "print(kite.login_url()) #use this url to manually login and authorize yourself"
      ]
    },
    {
      "cell_type": "code",
      "execution_count": 10,
      "metadata": {
        "id": "BG-9VqVbSohc"
      },
      "outputs": [],
      "source": [
        "#generate trading session\n",
        "request_token = \"GG3VBu37XuOHErJn3zfmu9LCfLMVMp5x\" #Extract request token from the redirect url obtained after you authorize yourself by loggin in\n",
        "data = kite.generate_session(request_token, api_secret=api_secret)\n",
        "#create kite trading object\n",
        "kite.set_access_token(data[\"access_token\"])"
      ]
    },
    {
      "cell_type": "code",
      "execution_count": 11,
      "metadata": {
        "id": "j0dSgDAQSvMW"
      },
      "outputs": [],
      "source": [
        "#get dump of all NSE instruments\n",
        "instrument_dump = kite.instruments(\"NSE\")\n",
        "instrument_df = pd.DataFrame(instrument_dump)\n",
        "instrument_df.to_csv(\"NSE_Instruments.csv\",index=False)"
      ]
    },
    {
      "cell_type": "code",
      "execution_count": 12,
      "metadata": {
        "id": "rUcyEyUzXoaC"
      },
      "outputs": [],
      "source": [
        "def instrumentLookup(instrument_df,symbol):\n",
        "    \"\"\"Looks up instrument token for a given script from instrument dump\"\"\"\n",
        "    try:\n",
        "        return instrument_df[instrument_df.tradingsymbol==symbol].instrument_token.values[0]\n",
        "    except:\n",
        "        return -1"
      ]
    },
    {
      "cell_type": "code",
      "execution_count": 13,
      "metadata": {
        "id": "smHTwRu4Xz98"
      },
      "outputs": [],
      "source": [
        "def fetchOHLC(ticker,interval,duration):\n",
        "  \"\"\"extracts historcial data and outputs in the form of dataframe\"\"\"\n",
        "  instrument = instrumentLookup(instrument_df,ticker)\n",
        "  data = pd.DataFrame(kite.historical_data(instrument,dt.date.today()-dt.timedelta(duration),dt.date.today(),interval))\n",
        "  # data1 = pd.DataFrame(kite.historical_data(instrument,dt.date.today(),dt.date.today(),interval))\n",
        "  # print(data1.head())\n",
        "  data.set_index(\"date\",inplace=True)\n",
        "  return data"
      ]
    },
    {
      "cell_type": "code",
      "source": [
        "# List of Nifty 50 constituent trading symbols (update as per latest list)\n",
        "nifty50_symbols = [\"RELIANCE\", \"HDFCBANK\", \"BHARTIARTL\", \"TCS\", \"ICICIBANK\", \"SBIN\", \"INFY\", \"HINDUNILVR\", \"BAJFINANCE\", \"ITC\"]"
      ],
      "metadata": {
        "id": "6j029xruLQoi"
      },
      "execution_count": 14,
      "outputs": []
    },
    {
      "cell_type": "code",
      "source": [
        "instrument_token = [6401, 40193, 60417, 81153, 98049, 119553, 177665, 225537, 315393, 341249, 345089, 348929, 408065, 424961, 492033, 502785, 519937,\n",
        " 633601, 738561, 779521, 857857, 878593, 884737, 895745, 897537, 969473, 1270529, 1304833, 1346049, 1510401, 1850625, 2815745, 2939649,\n",
        " 2952193, 2953217, 2977281, 3001089, 3465729, 4267265, 4268801, 4598529, 4644609, 5215745, 5582849, 3861249]"
      ],
      "metadata": {
        "id": "Yi3SICPGECOP"
      },
      "execution_count": 15,
      "outputs": []
    },
    {
      "cell_type": "markdown",
      "metadata": {
        "id": "4z5arO_lqJY0"
      },
      "source": [
        "# **placing order**"
      ]
    },
    {
      "cell_type": "code",
      "execution_count": 16,
      "metadata": {
        "id": "l7xpzX_tqNen"
      },
      "outputs": [],
      "source": [
        "def placeMarketOrder(symbol, buy_sell, quantity):\n",
        "  # place intraday market order on NSE\n",
        "  if buy_sell == \"buy\":\n",
        "    t_type = kite.TRANSACTION_TYPE_BUY\n",
        "  elif buy_sell == \"sell\":\n",
        "    t_type = kite.TRANSACTION_TYPE_SELL\n",
        "  kite.place_order(tradingsymbol=symbol,\n",
        "                   exchange=kite.EXCHANGE_NSE,\n",
        "                   transaction_type=t_type,\n",
        "                   quantity=5*quantity, # 5x leverage\n",
        "                   order_type=kite.ORDER_TYPE_MARKET,\n",
        "                   product=kite.PRODUCT_MIS,\n",
        "                   variety=kite.VARIETY_REGULAR)"
      ]
    },
    {
      "cell_type": "code",
      "source": [
        "df.iloc[20, : ]['close']"
      ],
      "metadata": {
        "colab": {
          "base_uri": "https://localhost:8080/"
        },
        "id": "eD8Q7CWWIZ-M",
        "outputId": "85b38217-d872-4319-cf7e-f25eff4f47ac"
      },
      "execution_count": null,
      "outputs": [
        {
          "output_type": "execute_result",
          "data": {
            "text/plain": [
              "np.float64(830.9)"
            ]
          },
          "metadata": {},
          "execution_count": 21
        }
      ]
    },
    {
      "cell_type": "code",
      "source": [
        "df_yesterday = fetchOHLC(\"SBIN\",\"5minute\", 3)\n",
        "print(\"SBIN\", df_yesterday.head(30))\n",
        "close_11am = df.iloc[20, : ]['close']\n",
        "print(close_11am)\n",
        "df_today = fetchOHLC(\"SBIN\",\"5minute\",0)\n",
        "print(df_today.head())\n",
        "intraday_high = df_today['high'].max()\n",
        "print(intraday_high)\n",
        "intraday_low = df_today['low'].min()\n",
        "print(intraday_low)\n",
        "capital = 10000 #position size\n",
        "quantity = int(capital/df_today[\"close\"][-1])\n",
        "'''instrument = instrumentLookup(instrument_df, i)\n",
        "if instrument != -1: # Check if instrument token was found\n",
        "    yesterday_close = kite.quote([instrument])[str(instrument)]['ohlc']['close'] # Use instrument token as key\n",
        "    #print(close_11am)\n",
        "    #print(f\"{i}: {yesterday_close}\") # Print the symbol and its close price\n",
        "else:\n",
        "    print(f\"Instrument token not found for {i}\")'''\n",
        "pivot_price = (intraday_high+intraday_low+yesterday_close)/3\n",
        "#print(pivot_price, close_11am)\n",
        "if close_11am > pivot_price:\n",
        "  print(f\"buy SBIN\")\n",
        "  #placeMarketOrder(i, \"buy\", quantity)\n",
        "elif close_11am < pivot_price:\n",
        "  print(f\"sell SBIN\")\n",
        "  #placeMarketOrder(i, \"sell\", quantity)"
      ],
      "metadata": {
        "id": "21ngAHtvGr0i"
      },
      "execution_count": null,
      "outputs": []
    },
    {
      "cell_type": "code",
      "source": [
        "for i in nifty50_symbols:\n",
        "  import warnings\n",
        "  warnings.filterwarnings('ignore') # Suppress all warnings\n",
        "  '''df_yesterday = fetchOHLC(i,\"day\", 1)\n",
        "  print(i, df_yesterday)'''\n",
        "  df_today = fetchOHLC(i, \"5minute\", 0)\n",
        "  print(f\"df today is {df_today}\")\n",
        "  capital = 10000 #position size\n",
        "  quantity = int(capital/df_today[\"close\"][-1])\n",
        "  close_11am = df_today['close'][-1]\n",
        "  print(f\"11 am close price is {close_11am}\")\n",
        "  intraday_high = df_today['high'].max()\n",
        "  print(f'intraday high is {intraday_high}')\n",
        "  intraday_low = df_today['low'].min()\n",
        "  print(f'intraday low is {intraday_low}')\n",
        "  instrument = instrumentLookup(instrument_df, i)\n",
        "  if instrument != -1: # Check if instrument token was found\n",
        "      yesterday_close = kite.quote([instrument])[str(instrument)]['ohlc']['close'] # Use instrument token as key\n",
        "      print(f\"yesterdayClose of {i} is {yesterday_close}\")\n",
        "  else:\n",
        "      print(f\"Instrument token not found for {i}\")\n",
        "  pivot_price = (intraday_high+intraday_low+yesterday_close)/3\n",
        "  #print(pivot_price, close_11am) 28.08.2025\n",
        "  if close_11am > pivot_price:\n",
        "    print(f\"buy {i}\")\n",
        "    #placeMarketOrder(i, \"buy\", quantity)\n",
        "  elif close_11am < pivot_price:\n",
        "    print(f\"sell {i}\")\n",
        "    #placeMarketOrder(i, \"sell\", quantity)\n",
        "  print('*' * 50)"
      ],
      "metadata": {
        "colab": {
          "base_uri": "https://localhost:8080/"
        },
        "collapsed": true,
        "id": "pvsphnI7NH9C",
        "outputId": "0cf3ec93-5903-4f9c-f7ab-11ce46da9ce2"
      },
      "execution_count": 31,
      "outputs": [
        {
          "output_type": "stream",
          "name": "stdout",
          "text": [
            "df today is                              open    high     low   close  volume\n",
            "date                                                             \n",
            "2025-08-29 09:15:00+05:30  1381.1  1395.3  1381.1  1391.3  866779\n",
            "2025-08-29 09:20:00+05:30  1391.3  1395.8  1389.3  1395.7  617554\n",
            "2025-08-29 09:25:00+05:30  1395.7  1396.6  1390.0  1391.1  241917\n",
            "11 am close price is 1391.1\n",
            "intraday high is 1396.6\n",
            "intraday low is 1381.1\n",
            "yesterdayClose of RELIANCE is 1385.9\n",
            "buy RELIANCE\n",
            "**************************************************\n",
            "df today is                             open   high    low  close  volume\n",
            "date                                                         \n",
            "2025-08-29 09:15:00+05:30  954.0  962.9  954.0  959.5  624156\n",
            "2025-08-29 09:20:00+05:30  959.5  961.4  958.4  960.9  190804\n",
            "2025-08-29 09:25:00+05:30  960.9  961.6  959.6  961.5  136603\n",
            "11 am close price is 961.5\n",
            "intraday high is 962.9\n",
            "intraday low is 954.0\n",
            "yesterdayClose of HDFCBANK is 957.8\n",
            "buy HDFCBANK\n",
            "**************************************************\n",
            "df today is                              open    high     low   close  volume\n",
            "date                                                             \n",
            "2025-08-29 09:15:00+05:30  1872.5  1897.0  1872.5  1882.0  288770\n",
            "2025-08-29 09:20:00+05:30  1881.9  1888.3  1881.1  1884.4   68582\n",
            "2025-08-29 09:25:00+05:30  1884.4  1884.8  1882.6  1883.2   53317\n",
            "11 am close price is 1883.2\n",
            "intraday high is 1897.0\n",
            "intraday low is 1872.5\n",
            "yesterdayClose of BHARTIARTL is 1881.1\n",
            "sell BHARTIARTL\n",
            "**************************************************\n",
            "df today is                            open    high     low   close  volume\n",
            "date                                                           \n",
            "2025-08-29 09:15:00+05:30  3093  3115.0  3091.3  3101.3   92279\n",
            "2025-08-29 09:20:00+05:30  3102  3109.0  3100.5  3104.8   33296\n",
            "2025-08-29 09:25:00+05:30  3104  3105.2  3100.4  3103.3   19376\n",
            "11 am close price is 3103.3\n",
            "intraday high is 3115.0\n",
            "intraday low is 3091.3\n",
            "yesterdayClose of TCS is 3093.7\n",
            "buy TCS\n",
            "**************************************************\n",
            "df today is                              open    high     low   close  volume\n",
            "date                                                             \n",
            "2025-08-29 09:15:00+05:30  1392.1  1398.3  1392.1  1394.0  269350\n",
            "2025-08-29 09:20:00+05:30  1394.5  1400.0  1393.5  1399.2  161489\n",
            "2025-08-29 09:25:00+05:30  1399.7  1400.6  1399.0  1399.9  106971\n",
            "11 am close price is 1399.9\n",
            "intraday high is 1400.6\n",
            "intraday low is 1392.1\n",
            "yesterdayClose of ICICIBANK is 1399.1\n",
            "buy ICICIBANK\n",
            "**************************************************\n",
            "df today is                              open    high    low  close  volume\n",
            "date                                                           \n",
            "2025-08-29 09:15:00+05:30  800.70  804.00  800.7  802.3  140205\n",
            "2025-08-29 09:20:00+05:30  802.25  803.50  802.1  803.2   70312\n",
            "2025-08-29 09:25:00+05:30  803.55  803.55  802.0  802.3   68614\n",
            "11 am close price is 802.3\n",
            "intraday high is 804.0\n",
            "intraday low is 800.7\n",
            "yesterdayClose of SBIN is 801.95\n",
            "buy SBIN\n",
            "**************************************************\n",
            "df today is                              open    high     low   close  volume\n",
            "date                                                             \n",
            "2025-08-29 09:15:00+05:30  1501.9  1501.9  1489.0  1489.5  164695\n",
            "2025-08-29 09:20:00+05:30  1490.3  1494.8  1489.1  1492.0  117341\n",
            "2025-08-29 09:25:00+05:30  1492.0  1492.5  1488.1  1488.4  108939\n",
            "11 am close price is 1488.4\n",
            "intraday high is 1501.9\n",
            "intraday low is 1488.1\n",
            "yesterdayClose of INFY is 1500.1\n",
            "sell INFY\n",
            "**************************************************\n",
            "df today is                              open    high     low   close  volume\n",
            "date                                                             \n",
            "2025-08-29 09:15:00+05:30  2664.8  2694.9  2660.0  2690.9   52222\n",
            "2025-08-29 09:20:00+05:30  2690.5  2723.0  2689.0  2710.0   89334\n",
            "2025-08-29 09:25:00+05:30  2709.5  2714.1  2706.3  2711.2   51171\n",
            "11 am close price is 2711.2\n",
            "intraday high is 2723.0\n",
            "intraday low is 2660.0\n",
            "yesterdayClose of HINDUNILVR is 2654.4\n",
            "buy HINDUNILVR\n",
            "**************************************************\n",
            "df today is                              open    high     low   close  volume\n",
            "date                                                             \n",
            "2025-08-29 09:15:00+05:30  870.85  876.70  870.85  873.60  243417\n",
            "2025-08-29 09:20:00+05:30  873.35  875.90  872.25  875.85  192459\n",
            "2025-08-29 09:25:00+05:30  875.50  878.95  875.50  878.40  392375\n",
            "11 am close price is 878.4\n",
            "intraday high is 878.95\n",
            "intraday low is 870.85\n",
            "yesterdayClose of BAJFINANCE is 876.85\n",
            "buy BAJFINANCE\n",
            "**************************************************\n",
            "df today is                              open    high     low   close  volume\n",
            "date                                                             \n",
            "2025-08-29 09:15:00+05:30  402.00  406.80  401.90  406.00  966741\n",
            "2025-08-29 09:20:00+05:30  406.15  407.35  405.95  406.70  473966\n",
            "2025-08-29 09:25:00+05:30  406.80  406.85  406.05  406.55  389505\n",
            "11 am close price is 406.55\n",
            "intraday high is 407.35\n",
            "intraday low is 401.9\n",
            "yesterdayClose of ITC is 400.9\n",
            "buy ITC\n",
            "**************************************************\n"
          ]
        }
      ]
    },
    {
      "cell_type": "code",
      "source": [],
      "metadata": {
        "id": "FVwWl_mooykw"
      },
      "execution_count": null,
      "outputs": []
    }
  ],
  "metadata": {
    "colab": {
      "provenance": [],
      "authorship_tag": "ABX9TyNaSaQYwhUnbPwPNzmJeAQr",
      "include_colab_link": true
    },
    "kernelspec": {
      "display_name": "Python 3",
      "name": "python3"
    },
    "language_info": {
      "name": "python"
    }
  },
  "nbformat": 4,
  "nbformat_minor": 0
}